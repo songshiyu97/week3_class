{
 "cells": [
  {
   "cell_type": "code",
   "execution_count": 1,
   "metadata": {},
   "outputs": [
    {
     "data": {
      "text/html": [
       "1"
      ],
      "text/latex": [
       "1"
      ],
      "text/markdown": [
       "1"
      ],
      "text/plain": [
       "[1] 1"
      ]
     },
     "metadata": {},
     "output_type": "display_data"
    }
   ],
   "source": [
    "3-2"
   ]
  },
  {
   "cell_type": "markdown",
   "metadata": {},
   "source": [
    "#simple math R\n"
   ]
  },
  {
   "cell_type": "code",
   "execution_count": 2,
   "metadata": {},
   "outputs": [
    {
     "data": {
      "text/html": [
       "-0.756802495307928"
      ],
      "text/latex": [
       "-0.756802495307928"
      ],
      "text/markdown": [
       "-0.756802495307928"
      ],
      "text/plain": [
       "[1] -0.7568025"
      ]
     },
     "metadata": {},
     "output_type": "display_data"
    }
   ],
   "source": [
    "sin(4)"
   ]
  },
  {
   "cell_type": "code",
   "execution_count": 3,
   "metadata": {},
   "outputs": [
    {
     "data": {
      "text/html": [
       "TRUE"
      ],
      "text/latex": [
       "TRUE"
      ],
      "text/markdown": [
       "TRUE"
      ],
      "text/plain": [
       "[1] TRUE"
      ]
     },
     "metadata": {},
     "output_type": "display_data"
    }
   ],
   "source": [
    "4>3"
   ]
  },
  {
   "cell_type": "code",
   "execution_count": 4,
   "metadata": {},
   "outputs": [
    {
     "data": {
      "text/html": [
       "FALSE"
      ],
      "text/latex": [
       "FALSE"
      ],
      "text/markdown": [
       "FALSE"
      ],
      "text/plain": [
       "[1] FALSE"
      ]
     },
     "metadata": {},
     "output_type": "display_data"
    }
   ],
   "source": [
    "4 < 3"
   ]
  },
  {
   "cell_type": "code",
   "execution_count": 5,
   "metadata": {},
   "outputs": [
    {
     "data": {
      "text/html": [
       "FALSE"
      ],
      "text/latex": [
       "FALSE"
      ],
      "text/markdown": [
       "FALSE"
      ],
      "text/plain": [
       "[1] FALSE"
      ]
     },
     "metadata": {},
     "output_type": "display_data"
    }
   ],
   "source": [
    "4 == 3"
   ]
  },
  {
   "cell_type": "code",
   "execution_count": 6,
   "metadata": {},
   "outputs": [
    {
     "data": {
      "text/html": [
       "TRUE"
      ],
      "text/latex": [
       "TRUE"
      ],
      "text/markdown": [
       "TRUE"
      ],
      "text/plain": [
       "[1] TRUE"
      ]
     },
     "metadata": {},
     "output_type": "display_data"
    }
   ],
   "source": [
    "(4 == 4) && (3 > 2)"
   ]
  },
  {
   "cell_type": "markdown",
   "metadata": {},
   "source": [
    "# VARIABLE ASSIGNMENT\n"
   ]
  },
  {
   "cell_type": "code",
   "execution_count": 9,
   "metadata": {},
   "outputs": [],
   "source": [
    "a <- 3 + 3"
   ]
  },
  {
   "cell_type": "code",
   "execution_count": 10,
   "metadata": {},
   "outputs": [
    {
     "data": {
      "text/html": [
       "6"
      ],
      "text/latex": [
       "6"
      ],
      "text/markdown": [
       "6"
      ],
      "text/plain": [
       "[1] 6"
      ]
     },
     "metadata": {},
     "output_type": "display_data"
    }
   ],
   "source": [
    "a"
   ]
  },
  {
   "cell_type": "code",
   "execution_count": 11,
   "metadata": {},
   "outputs": [
    {
     "name": "stdout",
     "output_type": "stream",
     "text": [
      "[1] \"hey sb\"\n"
     ]
    }
   ],
   "source": [
    "print(\"hey sb\")"
   ]
  },
  {
   "cell_type": "code",
   "execution_count": 13,
   "metadata": {},
   "outputs": [],
   "source": [
    "some_logic <- TRUE"
   ]
  },
  {
   "cell_type": "code",
   "execution_count": 14,
   "metadata": {},
   "outputs": [
    {
     "data": {
      "text/html": [
       "TRUE"
      ],
      "text/latex": [
       "TRUE"
      ],
      "text/markdown": [
       "TRUE"
      ],
      "text/plain": [
       "[1] TRUE"
      ]
     },
     "metadata": {},
     "output_type": "display_data"
    }
   ],
   "source": [
    "some_logic"
   ]
  },
  {
   "cell_type": "markdown",
   "metadata": {},
   "source": [
    "### The Vector"
   ]
  },
  {
   "cell_type": "code",
   "execution_count": 15,
   "metadata": {},
   "outputs": [],
   "source": [
    "dat <- c(4 , 5 , 6, 23, 2)"
   ]
  },
  {
   "cell_type": "code",
   "execution_count": 16,
   "metadata": {},
   "outputs": [
    {
     "data": {
      "text/html": [
       "<ol class=list-inline>\n",
       "\t<li>4</li>\n",
       "\t<li>5</li>\n",
       "\t<li>6</li>\n",
       "\t<li>23</li>\n",
       "\t<li>2</li>\n",
       "</ol>\n"
      ],
      "text/latex": [
       "\\begin{enumerate*}\n",
       "\\item 4\n",
       "\\item 5\n",
       "\\item 6\n",
       "\\item 23\n",
       "\\item 2\n",
       "\\end{enumerate*}\n"
      ],
      "text/markdown": [
       "1. 4\n",
       "2. 5\n",
       "3. 6\n",
       "4. 23\n",
       "5. 2\n",
       "\n",
       "\n"
      ],
      "text/plain": [
       "[1]  4  5  6 23  2"
      ]
     },
     "metadata": {},
     "output_type": "display_data"
    }
   ],
   "source": [
    "dat"
   ]
  },
  {
   "cell_type": "code",
   "execution_count": 20,
   "metadata": {},
   "outputs": [],
   "source": [
    "my_vec <- rep(0,10)"
   ]
  },
  {
   "cell_type": "code",
   "execution_count": 21,
   "metadata": {},
   "outputs": [
    {
     "data": {
      "text/html": [
       "<ol class=list-inline>\n",
       "\t<li>0</li>\n",
       "\t<li>0</li>\n",
       "\t<li>0</li>\n",
       "\t<li>0</li>\n",
       "\t<li>0</li>\n",
       "\t<li>0</li>\n",
       "\t<li>0</li>\n",
       "\t<li>0</li>\n",
       "\t<li>0</li>\n",
       "\t<li>0</li>\n",
       "</ol>\n"
      ],
      "text/latex": [
       "\\begin{enumerate*}\n",
       "\\item 0\n",
       "\\item 0\n",
       "\\item 0\n",
       "\\item 0\n",
       "\\item 0\n",
       "\\item 0\n",
       "\\item 0\n",
       "\\item 0\n",
       "\\item 0\n",
       "\\item 0\n",
       "\\end{enumerate*}\n"
      ],
      "text/markdown": [
       "1. 0\n",
       "2. 0\n",
       "3. 0\n",
       "4. 0\n",
       "5. 0\n",
       "6. 0\n",
       "7. 0\n",
       "8. 0\n",
       "9. 0\n",
       "10. 0\n",
       "\n",
       "\n"
      ],
      "text/plain": [
       " [1] 0 0 0 0 0 0 0 0 0 0"
      ]
     },
     "metadata": {},
     "output_type": "display_data"
    }
   ],
   "source": [
    "my_vec"
   ]
  },
  {
   "cell_type": "code",
   "execution_count": 22,
   "metadata": {},
   "outputs": [],
   "source": [
    "m <- 1:20"
   ]
  },
  {
   "cell_type": "code",
   "execution_count": 23,
   "metadata": {},
   "outputs": [
    {
     "data": {
      "text/html": [
       "<ol class=list-inline>\n",
       "\t<li>1</li>\n",
       "\t<li>2</li>\n",
       "\t<li>3</li>\n",
       "\t<li>4</li>\n",
       "\t<li>5</li>\n",
       "\t<li>6</li>\n",
       "\t<li>7</li>\n",
       "\t<li>8</li>\n",
       "\t<li>9</li>\n",
       "\t<li>10</li>\n",
       "\t<li>11</li>\n",
       "\t<li>12</li>\n",
       "\t<li>13</li>\n",
       "\t<li>14</li>\n",
       "\t<li>15</li>\n",
       "\t<li>16</li>\n",
       "\t<li>17</li>\n",
       "\t<li>18</li>\n",
       "\t<li>19</li>\n",
       "\t<li>20</li>\n",
       "</ol>\n"
      ],
      "text/latex": [
       "\\begin{enumerate*}\n",
       "\\item 1\n",
       "\\item 2\n",
       "\\item 3\n",
       "\\item 4\n",
       "\\item 5\n",
       "\\item 6\n",
       "\\item 7\n",
       "\\item 8\n",
       "\\item 9\n",
       "\\item 10\n",
       "\\item 11\n",
       "\\item 12\n",
       "\\item 13\n",
       "\\item 14\n",
       "\\item 15\n",
       "\\item 16\n",
       "\\item 17\n",
       "\\item 18\n",
       "\\item 19\n",
       "\\item 20\n",
       "\\end{enumerate*}\n"
      ],
      "text/markdown": [
       "1. 1\n",
       "2. 2\n",
       "3. 3\n",
       "4. 4\n",
       "5. 5\n",
       "6. 6\n",
       "7. 7\n",
       "8. 8\n",
       "9. 9\n",
       "10. 10\n",
       "11. 11\n",
       "12. 12\n",
       "13. 13\n",
       "14. 14\n",
       "15. 15\n",
       "16. 16\n",
       "17. 17\n",
       "18. 18\n",
       "19. 19\n",
       "20. 20\n",
       "\n",
       "\n"
      ],
      "text/plain": [
       " [1]  1  2  3  4  5  6  7  8  9 10 11 12 13 14 15 16 17 18 19 20"
      ]
     },
     "metadata": {},
     "output_type": "display_data"
    }
   ],
   "source": [
    "m"
   ]
  },
  {
   "cell_type": "code",
   "execution_count": 26,
   "metadata": {},
   "outputs": [],
   "source": [
    "v3 <- seq(-10, 10, 2)"
   ]
  },
  {
   "cell_type": "code",
   "execution_count": 27,
   "metadata": {},
   "outputs": [
    {
     "data": {
      "text/html": [
       "<ol class=list-inline>\n",
       "\t<li>-10</li>\n",
       "\t<li>-8</li>\n",
       "\t<li>-6</li>\n",
       "\t<li>-4</li>\n",
       "\t<li>-2</li>\n",
       "\t<li>0</li>\n",
       "\t<li>2</li>\n",
       "\t<li>4</li>\n",
       "\t<li>6</li>\n",
       "\t<li>8</li>\n",
       "\t<li>10</li>\n",
       "</ol>\n"
      ],
      "text/latex": [
       "\\begin{enumerate*}\n",
       "\\item -10\n",
       "\\item -8\n",
       "\\item -6\n",
       "\\item -4\n",
       "\\item -2\n",
       "\\item 0\n",
       "\\item 2\n",
       "\\item 4\n",
       "\\item 6\n",
       "\\item 8\n",
       "\\item 10\n",
       "\\end{enumerate*}\n"
      ],
      "text/markdown": [
       "1. -10\n",
       "2. -8\n",
       "3. -6\n",
       "4. -4\n",
       "5. -2\n",
       "6. 0\n",
       "7. 2\n",
       "8. 4\n",
       "9. 6\n",
       "10. 8\n",
       "11. 10\n",
       "\n",
       "\n"
      ],
      "text/plain": [
       " [1] -10  -8  -6  -4  -2   0   2   4   6   8  10"
      ]
     },
     "metadata": {},
     "output_type": "display_data"
    }
   ],
   "source": [
    "v3"
   ]
  },
  {
   "cell_type": "code",
   "execution_count": 28,
   "metadata": {},
   "outputs": [
    {
     "name": "stdout",
     "output_type": "stream",
     "text": [
      " [1] -10  -8  -6  -4  -2   0   2   4   6   8  10\n"
     ]
    }
   ],
   "source": [
    "show(v3)"
   ]
  },
  {
   "cell_type": "code",
   "execution_count": 29,
   "metadata": {},
   "outputs": [],
   "source": [
    "u <- seq(-2, 2,1)"
   ]
  },
  {
   "cell_type": "code",
   "execution_count": 30,
   "metadata": {},
   "outputs": [
    {
     "data": {
      "text/html": [
       "<ol class=list-inline>\n",
       "\t<li>-2</li>\n",
       "\t<li>-1</li>\n",
       "\t<li>0</li>\n",
       "\t<li>1</li>\n",
       "\t<li>2</li>\n",
       "</ol>\n"
      ],
      "text/latex": [
       "\\begin{enumerate*}\n",
       "\\item -2\n",
       "\\item -1\n",
       "\\item 0\n",
       "\\item 1\n",
       "\\item 2\n",
       "\\end{enumerate*}\n"
      ],
      "text/markdown": [
       "1. -2\n",
       "2. -1\n",
       "3. 0\n",
       "4. 1\n",
       "5. 2\n",
       "\n",
       "\n"
      ],
      "text/plain": [
       "[1] -2 -1  0  1  2"
      ]
     },
     "metadata": {},
     "output_type": "display_data"
    }
   ],
   "source": [
    "u"
   ]
  },
  {
   "cell_type": "markdown",
   "metadata": {},
   "source": [
    "## Indexing and Slicing"
   ]
  },
  {
   "cell_type": "code",
   "execution_count": 32,
   "metadata": {},
   "outputs": [],
   "source": [
    "v<-rnorm(5)"
   ]
  },
  {
   "cell_type": "code",
   "execution_count": 33,
   "metadata": {},
   "outputs": [
    {
     "data": {
      "text/html": [
       "<ol class=list-inline>\n",
       "\t<li>1.02450752087527</li>\n",
       "\t<li>0.950945097217496</li>\n",
       "\t<li>-0.220636377000757</li>\n",
       "\t<li>-0.148720632140377</li>\n",
       "\t<li>-0.267906371665368</li>\n",
       "</ol>\n"
      ],
      "text/latex": [
       "\\begin{enumerate*}\n",
       "\\item 1.02450752087527\n",
       "\\item 0.950945097217496\n",
       "\\item -0.220636377000757\n",
       "\\item -0.148720632140377\n",
       "\\item -0.267906371665368\n",
       "\\end{enumerate*}\n"
      ],
      "text/markdown": [
       "1. 1.02450752087527\n",
       "2. 0.950945097217496\n",
       "3. -0.220636377000757\n",
       "4. -0.148720632140377\n",
       "5. -0.267906371665368\n",
       "\n",
       "\n"
      ],
      "text/plain": [
       "[1]  1.0245075  0.9509451 -0.2206364 -0.1487206 -0.2679064"
      ]
     },
     "metadata": {},
     "output_type": "display_data"
    }
   ],
   "source": [
    "v\n"
   ]
  },
  {
   "cell_type": "code",
   "execution_count": 34,
   "metadata": {},
   "outputs": [
    {
     "data": {
      "text/html": [
       "0.950945097217496"
      ],
      "text/latex": [
       "0.950945097217496"
      ],
      "text/markdown": [
       "0.950945097217496"
      ],
      "text/plain": [
       "[1] 0.9509451"
      ]
     },
     "metadata": {},
     "output_type": "display_data"
    }
   ],
   "source": [
    "v[2]"
   ]
  },
  {
   "cell_type": "code",
   "execution_count": 35,
   "metadata": {},
   "outputs": [
    {
     "data": {
      "text/html": [
       "<ol class=list-inline>\n",
       "\t<li>1.02450752087527</li>\n",
       "\t<li>0.950945097217496</li>\n",
       "\t<li>-0.220636377000757</li>\n",
       "\t<li>-0.148720632140377</li>\n",
       "\t<li>-0.267906371665368</li>\n",
       "</ol>\n"
      ],
      "text/latex": [
       "\\begin{enumerate*}\n",
       "\\item 1.02450752087527\n",
       "\\item 0.950945097217496\n",
       "\\item -0.220636377000757\n",
       "\\item -0.148720632140377\n",
       "\\item -0.267906371665368\n",
       "\\end{enumerate*}\n"
      ],
      "text/markdown": [
       "1. 1.02450752087527\n",
       "2. 0.950945097217496\n",
       "3. -0.220636377000757\n",
       "4. -0.148720632140377\n",
       "5. -0.267906371665368\n",
       "\n",
       "\n"
      ],
      "text/plain": [
       "[1]  1.0245075  0.9509451 -0.2206364 -0.1487206 -0.2679064"
      ]
     },
     "metadata": {},
     "output_type": "display_data"
    }
   ],
   "source": [
    "v"
   ]
  },
  {
   "cell_type": "code",
   "execution_count": 36,
   "metadata": {},
   "outputs": [
    {
     "data": {
      "text/html": [
       "<ol class=list-inline>\n",
       "\t<li>1.02450752087527</li>\n",
       "\t<li>0.950945097217496</li>\n",
       "\t<li>-0.220636377000757</li>\n",
       "</ol>\n"
      ],
      "text/latex": [
       "\\begin{enumerate*}\n",
       "\\item 1.02450752087527\n",
       "\\item 0.950945097217496\n",
       "\\item -0.220636377000757\n",
       "\\end{enumerate*}\n"
      ],
      "text/markdown": [
       "1. 1.02450752087527\n",
       "2. 0.950945097217496\n",
       "3. -0.220636377000757\n",
       "\n",
       "\n"
      ],
      "text/plain": [
       "[1]  1.0245075  0.9509451 -0.2206364"
      ]
     },
     "metadata": {},
     "output_type": "display_data"
    }
   ],
   "source": [
    "v[1:3]"
   ]
  },
  {
   "cell_type": "code",
   "execution_count": 37,
   "metadata": {},
   "outputs": [
    {
     "data": {
      "text/html": [
       "<ol class=list-inline>\n",
       "\t<li>0.950945097217496</li>\n",
       "\t<li>-0.220636377000757</li>\n",
       "\t<li>-0.148720632140377</li>\n",
       "\t<li>-0.267906371665368</li>\n",
       "</ol>\n"
      ],
      "text/latex": [
       "\\begin{enumerate*}\n",
       "\\item 0.950945097217496\n",
       "\\item -0.220636377000757\n",
       "\\item -0.148720632140377\n",
       "\\item -0.267906371665368\n",
       "\\end{enumerate*}\n"
      ],
      "text/markdown": [
       "1. 0.950945097217496\n",
       "2. -0.220636377000757\n",
       "3. -0.148720632140377\n",
       "4. -0.267906371665368\n",
       "\n",
       "\n"
      ],
      "text/plain": [
       "[1]  0.9509451 -0.2206364 -0.1487206 -0.2679064"
      ]
     },
     "metadata": {},
     "output_type": "display_data"
    }
   ],
   "source": [
    "v[2:5]"
   ]
  },
  {
   "cell_type": "code",
   "execution_count": 38,
   "metadata": {},
   "outputs": [
    {
     "data": {
      "text/html": [
       "<ol class=list-inline>\n",
       "\t<li>1.02450752087527</li>\n",
       "\t<li>-0.220636377000757</li>\n",
       "</ol>\n"
      ],
      "text/latex": [
       "\\begin{enumerate*}\n",
       "\\item 1.02450752087527\n",
       "\\item -0.220636377000757\n",
       "\\end{enumerate*}\n"
      ],
      "text/markdown": [
       "1. 1.02450752087527\n",
       "2. -0.220636377000757\n",
       "\n",
       "\n"
      ],
      "text/plain": [
       "[1]  1.0245075 -0.2206364"
      ]
     },
     "metadata": {},
     "output_type": "display_data"
    }
   ],
   "source": [
    "v[c(1,3)]"
   ]
  },
  {
   "cell_type": "code",
   "execution_count": 39,
   "metadata": {},
   "outputs": [
    {
     "data": {
      "text/html": [
       "<ol class=list-inline>\n",
       "\t<li>1.02450752087527</li>\n",
       "\t<li>0.950945097217496</li>\n",
       "\t<li>-0.148720632140377</li>\n",
       "\t<li>-0.267906371665368</li>\n",
       "</ol>\n"
      ],
      "text/latex": [
       "\\begin{enumerate*}\n",
       "\\item 1.02450752087527\n",
       "\\item 0.950945097217496\n",
       "\\item -0.148720632140377\n",
       "\\item -0.267906371665368\n",
       "\\end{enumerate*}\n"
      ],
      "text/markdown": [
       "1. 1.02450752087527\n",
       "2. 0.950945097217496\n",
       "3. -0.148720632140377\n",
       "4. -0.267906371665368\n",
       "\n",
       "\n"
      ],
      "text/plain": [
       "[1]  1.0245075  0.9509451 -0.1487206 -0.2679064"
      ]
     },
     "metadata": {},
     "output_type": "display_data"
    }
   ],
   "source": [
    "v[-3]"
   ]
  },
  {
   "cell_type": "markdown",
   "metadata": {},
   "source": [
    "# Assignment and Indexing"
   ]
  },
  {
   "cell_type": "code",
   "execution_count": 40,
   "metadata": {},
   "outputs": [],
   "source": [
    "u <- c(5,6,8,22)"
   ]
  },
  {
   "cell_type": "code",
   "execution_count": 41,
   "metadata": {},
   "outputs": [],
   "source": [
    "u[1]<-0"
   ]
  },
  {
   "cell_type": "code",
   "execution_count": 42,
   "metadata": {},
   "outputs": [
    {
     "data": {
      "text/html": [
       "<ol class=list-inline>\n",
       "\t<li>0</li>\n",
       "\t<li>6</li>\n",
       "\t<li>8</li>\n",
       "\t<li>22</li>\n",
       "</ol>\n"
      ],
      "text/latex": [
       "\\begin{enumerate*}\n",
       "\\item 0\n",
       "\\item 6\n",
       "\\item 8\n",
       "\\item 22\n",
       "\\end{enumerate*}\n"
      ],
      "text/markdown": [
       "1. 0\n",
       "2. 6\n",
       "3. 8\n",
       "4. 22\n",
       "\n",
       "\n"
      ],
      "text/plain": [
       "[1]  0  6  8 22"
      ]
     },
     "metadata": {},
     "output_type": "display_data"
    }
   ],
   "source": [
    "u"
   ]
  },
  {
   "cell_type": "code",
   "execution_count": 43,
   "metadata": {},
   "outputs": [],
   "source": [
    "u3 <- u[1:3]"
   ]
  },
  {
   "cell_type": "code",
   "execution_count": 44,
   "metadata": {},
   "outputs": [
    {
     "name": "stdout",
     "output_type": "stream",
     "text": [
      "[1] 0 6 8\n"
     ]
    }
   ],
   "source": [
    "print(u3)"
   ]
  },
  {
   "cell_type": "code",
   "execution_count": 45,
   "metadata": {},
   "outputs": [],
   "source": [
    "v <- c(10, 20, 30)"
   ]
  },
  {
   "cell_type": "code",
   "execution_count": 46,
   "metadata": {},
   "outputs": [
    {
     "data": {
      "text/html": [
       "FALSE"
      ],
      "text/latex": [
       "FALSE"
      ],
      "text/markdown": [
       "FALSE"
      ],
      "text/plain": [
       "[1] FALSE"
      ]
     },
     "metadata": {},
     "output_type": "display_data"
    }
   ],
   "source": [
    "v[1]<0"
   ]
  },
  {
   "cell_type": "code",
   "execution_count": 47,
   "metadata": {},
   "outputs": [],
   "source": [
    "v[1]<-0\n",
    "v[2]<-0"
   ]
  },
  {
   "cell_type": "code",
   "execution_count": 48,
   "metadata": {},
   "outputs": [
    {
     "data": {
      "text/html": [
       "<ol class=list-inline>\n",
       "\t<li>0</li>\n",
       "\t<li>0</li>\n",
       "\t<li>30</li>\n",
       "</ol>\n"
      ],
      "text/latex": [
       "\\begin{enumerate*}\n",
       "\\item 0\n",
       "\\item 0\n",
       "\\item 30\n",
       "\\end{enumerate*}\n"
      ],
      "text/markdown": [
       "1. 0\n",
       "2. 0\n",
       "3. 30\n",
       "\n",
       "\n"
      ],
      "text/plain": [
       "[1]  0  0 30"
      ]
     },
     "metadata": {},
     "output_type": "display_data"
    }
   ],
   "source": [
    "v"
   ]
  },
  {
   "cell_type": "code",
   "execution_count": 49,
   "metadata": {},
   "outputs": [],
   "source": [
    "v<- seq(10,50,10\n",
    "       )"
   ]
  },
  {
   "cell_type": "code",
   "execution_count": 50,
   "metadata": {},
   "outputs": [
    {
     "data": {
      "text/html": [
       "<ol class=list-inline>\n",
       "\t<li>10</li>\n",
       "\t<li>20</li>\n",
       "\t<li>30</li>\n",
       "\t<li>40</li>\n",
       "\t<li>50</li>\n",
       "</ol>\n"
      ],
      "text/latex": [
       "\\begin{enumerate*}\n",
       "\\item 10\n",
       "\\item 20\n",
       "\\item 30\n",
       "\\item 40\n",
       "\\item 50\n",
       "\\end{enumerate*}\n"
      ],
      "text/markdown": [
       "1. 10\n",
       "2. 20\n",
       "3. 30\n",
       "4. 40\n",
       "5. 50\n",
       "\n",
       "\n"
      ],
      "text/plain": [
       "[1] 10 20 30 40 50"
      ]
     },
     "metadata": {},
     "output_type": "display_data"
    }
   ],
   "source": [
    "v"
   ]
  },
  {
   "cell_type": "code",
   "execution_count": 51,
   "metadata": {},
   "outputs": [],
   "source": [
    "v2<-c(v[1],v[3],v[5])"
   ]
  },
  {
   "cell_type": "code",
   "execution_count": 52,
   "metadata": {},
   "outputs": [
    {
     "data": {
      "text/html": [
       "<ol class=list-inline>\n",
       "\t<li>10</li>\n",
       "\t<li>30</li>\n",
       "\t<li>50</li>\n",
       "</ol>\n"
      ],
      "text/latex": [
       "\\begin{enumerate*}\n",
       "\\item 10\n",
       "\\item 30\n",
       "\\item 50\n",
       "\\end{enumerate*}\n"
      ],
      "text/markdown": [
       "1. 10\n",
       "2. 30\n",
       "3. 50\n",
       "\n",
       "\n"
      ],
      "text/plain": [
       "[1] 10 30 50"
      ]
     },
     "metadata": {},
     "output_type": "display_data"
    }
   ],
   "source": [
    "v2"
   ]
  },
  {
   "cell_type": "code",
   "execution_count": 55,
   "metadata": {},
   "outputs": [
    {
     "data": {
      "text/html": [
       "<ol class=list-inline>\n",
       "\t<li>10</li>\n",
       "\t<li>30</li>\n",
       "\t<li>50</li>\n",
       "</ol>\n"
      ],
      "text/latex": [
       "\\begin{enumerate*}\n",
       "\\item 10\n",
       "\\item 30\n",
       "\\item 50\n",
       "\\end{enumerate*}\n"
      ],
      "text/markdown": [
       "1. 10\n",
       "2. 30\n",
       "3. 50\n",
       "\n",
       "\n"
      ],
      "text/plain": [
       "[1] 10 30 50"
      ]
     },
     "metadata": {},
     "output_type": "display_data"
    }
   ],
   "source": [
    "v3<- c(TRUE,FALSE, TRUE, FALSE,TRUE) # this is creating a vector\n",
    "v[v3]"
   ]
  },
  {
   "cell_type": "code",
   "execution_count": 56,
   "metadata": {},
   "outputs": [],
   "source": [
    "v <- c(44,55,66)"
   ]
  },
  {
   "cell_type": "code",
   "execution_count": 57,
   "metadata": {},
   "outputs": [
    {
     "data": {
      "text/html": [
       "<ol class=list-inline>\n",
       "\t<li>24</li>\n",
       "\t<li>35</li>\n",
       "\t<li>46</li>\n",
       "</ol>\n"
      ],
      "text/latex": [
       "\\begin{enumerate*}\n",
       "\\item 24\n",
       "\\item 35\n",
       "\\item 46\n",
       "\\end{enumerate*}\n"
      ],
      "text/markdown": [
       "1. 24\n",
       "2. 35\n",
       "3. 46\n",
       "\n",
       "\n"
      ],
      "text/plain": [
       "[1] 24 35 46"
      ]
     },
     "metadata": {},
     "output_type": "display_data"
    }
   ],
   "source": [
    "v-20"
   ]
  },
  {
   "cell_type": "code",
   "execution_count": 58,
   "metadata": {},
   "outputs": [
    {
     "data": {
      "text/html": [
       "<ol class=list-inline>\n",
       "\t<li>88</li>\n",
       "\t<li>110</li>\n",
       "\t<li>132</li>\n",
       "</ol>\n"
      ],
      "text/latex": [
       "\\begin{enumerate*}\n",
       "\\item 88\n",
       "\\item 110\n",
       "\\item 132\n",
       "\\end{enumerate*}\n"
      ],
      "text/markdown": [
       "1. 88\n",
       "2. 110\n",
       "3. 132\n",
       "\n",
       "\n"
      ],
      "text/plain": [
       "[1]  88 110 132"
      ]
     },
     "metadata": {},
     "output_type": "display_data"
    }
   ],
   "source": [
    "v*2"
   ]
  },
  {
   "cell_type": "code",
   "execution_count": 59,
   "metadata": {},
   "outputs": [
    {
     "data": {
      "text/html": [
       "<ol class=list-inline>\n",
       "\t<li>FALSE</li>\n",
       "\t<li>TRUE</li>\n",
       "\t<li>TRUE</li>\n",
       "</ol>\n"
      ],
      "text/latex": [
       "\\begin{enumerate*}\n",
       "\\item FALSE\n",
       "\\item TRUE\n",
       "\\item TRUE\n",
       "\\end{enumerate*}\n"
      ],
      "text/markdown": [
       "1. FALSE\n",
       "2. TRUE\n",
       "3. TRUE\n",
       "\n",
       "\n"
      ],
      "text/plain": [
       "[1] FALSE  TRUE  TRUE"
      ]
     },
     "metadata": {},
     "output_type": "display_data"
    }
   ],
   "source": [
    "v > 50"
   ]
  },
  {
   "cell_type": "code",
   "execution_count": 60,
   "metadata": {},
   "outputs": [
    {
     "ename": "ERROR",
     "evalue": "Error in parse(text = x, srcfile = src): <text>:1:4: unexpected '>'\n1: v >>\n       ^\n",
     "output_type": "error",
     "traceback": [
      "Error in parse(text = x, srcfile = src): <text>:1:4: unexpected '>'\n1: v >>\n       ^\nTraceback:\n"
     ]
    }
   ],
   "source": [
    "v >> 50"
   ]
  },
  {
   "cell_type": "markdown",
   "metadata": {},
   "source": [
    "# Useful Operations on Vectors"
   ]
  },
  {
   "cell_type": "code",
   "execution_count": 62,
   "metadata": {},
   "outputs": [],
   "source": [
    "v <- rnorm(10)"
   ]
  },
  {
   "cell_type": "code",
   "execution_count": 63,
   "metadata": {},
   "outputs": [
    {
     "name": "stdout",
     "output_type": "stream",
     "text": [
      " [1] -2.56790974 -1.35781224  0.02680607  0.54942910  0.97889255 -0.08988467\n",
      " [7]  0.25263795  0.89536754 -0.49583611  2.37559056\n"
     ]
    }
   ],
   "source": [
    "print(v)"
   ]
  },
  {
   "cell_type": "code",
   "execution_count": 64,
   "metadata": {},
   "outputs": [
    {
     "data": {
      "text/html": [
       "0.567281021552038"
      ],
      "text/latex": [
       "0.567281021552038"
      ],
      "text/markdown": [
       "0.567281021552038"
      ],
      "text/plain": [
       "[1] 0.567281"
      ]
     },
     "metadata": {},
     "output_type": "display_data"
    }
   ],
   "source": [
    "sum(v)"
   ]
  },
  {
   "cell_type": "code",
   "execution_count": 65,
   "metadata": {},
   "outputs": [
    {
     "data": {
      "text/html": [
       "2.37559056379457"
      ],
      "text/latex": [
       "2.37559056379457"
      ],
      "text/markdown": [
       "2.37559056379457"
      ],
      "text/plain": [
       "[1] 2.375591"
      ]
     },
     "metadata": {},
     "output_type": "display_data"
    }
   ],
   "source": [
    "max(v)"
   ]
  },
  {
   "cell_type": "code",
   "execution_count": 66,
   "metadata": {},
   "outputs": [
    {
     "data": {
      "text/html": [
       "-2.56790974396675"
      ],
      "text/latex": [
       "-2.56790974396675"
      ],
      "text/markdown": [
       "-2.56790974396675"
      ],
      "text/plain": [
       "[1] -2.56791"
      ]
     },
     "metadata": {},
     "output_type": "display_data"
    }
   ],
   "source": [
    "min(v)"
   ]
  },
  {
   "cell_type": "code",
   "execution_count": 67,
   "metadata": {},
   "outputs": [
    {
     "data": {
      "text/html": [
       "1.35110356026303"
      ],
      "text/latex": [
       "1.35110356026303"
      ],
      "text/markdown": [
       "1.35110356026303"
      ],
      "text/plain": [
       "[1] 1.351104"
      ]
     },
     "metadata": {},
     "output_type": "display_data"
    }
   ],
   "source": [
    "sd(v)"
   ]
  },
  {
   "cell_type": "markdown",
   "metadata": {},
   "source": [
    "# The Matrix"
   ]
  },
  {
   "cell_type": "code",
   "execution_count": 68,
   "metadata": {},
   "outputs": [],
   "source": [
    "x1<-c(4,5,6)"
   ]
  },
  {
   "cell_type": "code",
   "execution_count": 69,
   "metadata": {},
   "outputs": [],
   "source": [
    "x2<-c(55,55,57)"
   ]
  },
  {
   "cell_type": "code",
   "execution_count": 70,
   "metadata": {},
   "outputs": [],
   "source": [
    "m<-cbind(x1,x2)"
   ]
  },
  {
   "cell_type": "code",
   "execution_count": 71,
   "metadata": {},
   "outputs": [
    {
     "data": {
      "text/html": [
       "<table>\n",
       "<caption>A matrix: 3 × 2 of type dbl</caption>\n",
       "<thead>\n",
       "\t<tr><th scope=col>x1</th><th scope=col>x2</th></tr>\n",
       "</thead>\n",
       "<tbody>\n",
       "\t<tr><td>4</td><td>55</td></tr>\n",
       "\t<tr><td>5</td><td>55</td></tr>\n",
       "\t<tr><td>6</td><td>57</td></tr>\n",
       "</tbody>\n",
       "</table>\n"
      ],
      "text/latex": [
       "A matrix: 3 × 2 of type dbl\n",
       "\\begin{tabular}{ll}\n",
       " x1 & x2\\\\\n",
       "\\hline\n",
       "\t 4 & 55\\\\\n",
       "\t 5 & 55\\\\\n",
       "\t 6 & 57\\\\\n",
       "\\end{tabular}\n"
      ],
      "text/markdown": [
       "\n",
       "A matrix: 3 × 2 of type dbl\n",
       "\n",
       "| x1 | x2 |\n",
       "|---|---|\n",
       "| 4 | 55 |\n",
       "| 5 | 55 |\n",
       "| 6 | 57 |\n",
       "\n"
      ],
      "text/plain": [
       "     x1 x2\n",
       "[1,] 4  55\n",
       "[2,] 5  55\n",
       "[3,] 6  57"
      ]
     },
     "metadata": {},
     "output_type": "display_data"
    }
   ],
   "source": [
    "m   # is a 3x2 matrix"
   ]
  },
  {
   "cell_type": "code",
   "execution_count": 72,
   "metadata": {},
   "outputs": [],
   "source": [
    "m2<-rbind(x1,x2)"
   ]
  },
  {
   "cell_type": "code",
   "execution_count": 73,
   "metadata": {},
   "outputs": [
    {
     "data": {
      "text/html": [
       "<table>\n",
       "<caption>A matrix: 2 × 3 of type dbl</caption>\n",
       "<tbody>\n",
       "\t<tr><th scope=row>x1</th><td> 4</td><td> 5</td><td> 6</td></tr>\n",
       "\t<tr><th scope=row>x2</th><td>55</td><td>55</td><td>57</td></tr>\n",
       "</tbody>\n",
       "</table>\n"
      ],
      "text/latex": [
       "A matrix: 2 × 3 of type dbl\n",
       "\\begin{tabular}{r|lll}\n",
       "\tx1 &  4 &  5 &  6\\\\\n",
       "\tx2 & 55 & 55 & 57\\\\\n",
       "\\end{tabular}\n"
      ],
      "text/markdown": [
       "\n",
       "A matrix: 2 × 3 of type dbl\n",
       "\n",
       "| x1 |  4 |  5 |  6 |\n",
       "| x2 | 55 | 55 | 57 |\n",
       "\n"
      ],
      "text/plain": [
       "   [,1] [,2] [,3]\n",
       "x1  4    5    6  \n",
       "x2 55   55   57  "
      ]
     },
     "metadata": {},
     "output_type": "display_data"
    }
   ],
   "source": [
    "m2"
   ]
  },
  {
   "cell_type": "code",
   "execution_count": 74,
   "metadata": {},
   "outputs": [],
   "source": [
    "a<- matrix(0, nrow=3,ncol=3)"
   ]
  },
  {
   "cell_type": "code",
   "execution_count": 75,
   "metadata": {},
   "outputs": [
    {
     "data": {
      "text/html": [
       "<table>\n",
       "<caption>A matrix: 3 × 3 of type dbl</caption>\n",
       "<tbody>\n",
       "\t<tr><td>0</td><td>0</td><td>0</td></tr>\n",
       "\t<tr><td>0</td><td>0</td><td>0</td></tr>\n",
       "\t<tr><td>0</td><td>0</td><td>0</td></tr>\n",
       "</tbody>\n",
       "</table>\n"
      ],
      "text/latex": [
       "A matrix: 3 × 3 of type dbl\n",
       "\\begin{tabular}{lll}\n",
       "\t 0 & 0 & 0\\\\\n",
       "\t 0 & 0 & 0\\\\\n",
       "\t 0 & 0 & 0\\\\\n",
       "\\end{tabular}\n"
      ],
      "text/markdown": [
       "\n",
       "A matrix: 3 × 3 of type dbl\n",
       "\n",
       "| 0 | 0 | 0 |\n",
       "| 0 | 0 | 0 |\n",
       "| 0 | 0 | 0 |\n",
       "\n"
      ],
      "text/plain": [
       "     [,1] [,2] [,3]\n",
       "[1,] 0    0    0   \n",
       "[2,] 0    0    0   \n",
       "[3,] 0    0    0   "
      ]
     },
     "metadata": {},
     "output_type": "display_data"
    }
   ],
   "source": [
    "a"
   ]
  },
  {
   "cell_type": "code",
   "execution_count": 76,
   "metadata": {},
   "outputs": [
    {
     "name": "stdout",
     "output_type": "stream",
     "text": [
      "     [,1] [,2] [,3]\n",
      "[1,]    0    0    0\n",
      "[2,]    0    0    0\n",
      "[3,]    0    0    0\n"
     ]
    }
   ],
   "source": [
    "print(a)"
   ]
  },
  {
   "cell_type": "code",
   "execution_count": 77,
   "metadata": {},
   "outputs": [],
   "source": [
    "dat <- rnorm(15)"
   ]
  },
  {
   "cell_type": "code",
   "execution_count": 78,
   "metadata": {},
   "outputs": [
    {
     "data": {
      "text/html": [
       "<ol class=list-inline>\n",
       "\t<li>1.13973411613043</li>\n",
       "\t<li>-0.0679873476145856</li>\n",
       "\t<li>0.683367054216449</li>\n",
       "\t<li>0.700594149564555</li>\n",
       "\t<li>-0.356093633180984</li>\n",
       "\t<li>-1.02477512849058</li>\n",
       "\t<li>0.116169495979116</li>\n",
       "\t<li>0.577468682875987</li>\n",
       "\t<li>0.748499548345947</li>\n",
       "\t<li>-1.71455607902945</li>\n",
       "\t<li>0.796350213783644</li>\n",
       "\t<li>-0.949581096786806</li>\n",
       "\t<li>-1.24277431114771</li>\n",
       "\t<li>-0.955481307952609</li>\n",
       "\t<li>-0.710542591552711</li>\n",
       "</ol>\n"
      ],
      "text/latex": [
       "\\begin{enumerate*}\n",
       "\\item 1.13973411613043\n",
       "\\item -0.0679873476145856\n",
       "\\item 0.683367054216449\n",
       "\\item 0.700594149564555\n",
       "\\item -0.356093633180984\n",
       "\\item -1.02477512849058\n",
       "\\item 0.116169495979116\n",
       "\\item 0.577468682875987\n",
       "\\item 0.748499548345947\n",
       "\\item -1.71455607902945\n",
       "\\item 0.796350213783644\n",
       "\\item -0.949581096786806\n",
       "\\item -1.24277431114771\n",
       "\\item -0.955481307952609\n",
       "\\item -0.710542591552711\n",
       "\\end{enumerate*}\n"
      ],
      "text/markdown": [
       "1. 1.13973411613043\n",
       "2. -0.0679873476145856\n",
       "3. 0.683367054216449\n",
       "4. 0.700594149564555\n",
       "5. -0.356093633180984\n",
       "6. -1.02477512849058\n",
       "7. 0.116169495979116\n",
       "8. 0.577468682875987\n",
       "9. 0.748499548345947\n",
       "10. -1.71455607902945\n",
       "11. 0.796350213783644\n",
       "12. -0.949581096786806\n",
       "13. -1.24277431114771\n",
       "14. -0.955481307952609\n",
       "15. -0.710542591552711\n",
       "\n",
       "\n"
      ],
      "text/plain": [
       " [1]  1.13973412 -0.06798735  0.68336705  0.70059415 -0.35609363 -1.02477513\n",
       " [7]  0.11616950  0.57746868  0.74849955 -1.71455608  0.79635021 -0.94958110\n",
       "[13] -1.24277431 -0.95548131 -0.71054259"
      ]
     },
     "metadata": {},
     "output_type": "display_data"
    }
   ],
   "source": [
    "dat"
   ]
  },
  {
   "cell_type": "code",
   "execution_count": 83,
   "metadata": {},
   "outputs": [],
   "source": [
    "b<- matrix(\"dat\",ncol=3,nrow=5)"
   ]
  },
  {
   "cell_type": "code",
   "execution_count": 84,
   "metadata": {},
   "outputs": [
    {
     "name": "stdout",
     "output_type": "stream",
     "text": [
      "     [,1]  [,2]  [,3] \n",
      "[1,] \"dat\" \"dat\" \"dat\"\n",
      "[2,] \"dat\" \"dat\" \"dat\"\n",
      "[3,] \"dat\" \"dat\" \"dat\"\n",
      "[4,] \"dat\" \"dat\" \"dat\"\n",
      "[5,] \"dat\" \"dat\" \"dat\"\n"
     ]
    }
   ],
   "source": [
    "print(b)"
   ]
  },
  {
   "cell_type": "code",
   "execution_count": 85,
   "metadata": {},
   "outputs": [],
   "source": [
    "m<- matrix(dat, ncol=3)"
   ]
  },
  {
   "cell_type": "code",
   "execution_count": 86,
   "metadata": {},
   "outputs": [
    {
     "data": {
      "text/html": [
       "<table>\n",
       "<caption>A matrix: 5 × 3 of type dbl</caption>\n",
       "<tbody>\n",
       "\t<tr><td> 1.13973412</td><td>-1.0247751</td><td> 0.7963502</td></tr>\n",
       "\t<tr><td>-0.06798735</td><td> 0.1161695</td><td>-0.9495811</td></tr>\n",
       "\t<tr><td> 0.68336705</td><td> 0.5774687</td><td>-1.2427743</td></tr>\n",
       "\t<tr><td> 0.70059415</td><td> 0.7484995</td><td>-0.9554813</td></tr>\n",
       "\t<tr><td>-0.35609363</td><td>-1.7145561</td><td>-0.7105426</td></tr>\n",
       "</tbody>\n",
       "</table>\n"
      ],
      "text/latex": [
       "A matrix: 5 × 3 of type dbl\n",
       "\\begin{tabular}{lll}\n",
       "\t  1.13973412 & -1.0247751 &  0.7963502\\\\\n",
       "\t -0.06798735 &  0.1161695 & -0.9495811\\\\\n",
       "\t  0.68336705 &  0.5774687 & -1.2427743\\\\\n",
       "\t  0.70059415 &  0.7484995 & -0.9554813\\\\\n",
       "\t -0.35609363 & -1.7145561 & -0.7105426\\\\\n",
       "\\end{tabular}\n"
      ],
      "text/markdown": [
       "\n",
       "A matrix: 5 × 3 of type dbl\n",
       "\n",
       "|  1.13973412 | -1.0247751 |  0.7963502 |\n",
       "| -0.06798735 |  0.1161695 | -0.9495811 |\n",
       "|  0.68336705 |  0.5774687 | -1.2427743 |\n",
       "|  0.70059415 |  0.7484995 | -0.9554813 |\n",
       "| -0.35609363 | -1.7145561 | -0.7105426 |\n",
       "\n"
      ],
      "text/plain": [
       "     [,1]        [,2]       [,3]      \n",
       "[1,]  1.13973412 -1.0247751  0.7963502\n",
       "[2,] -0.06798735  0.1161695 -0.9495811\n",
       "[3,]  0.68336705  0.5774687 -1.2427743\n",
       "[4,]  0.70059415  0.7484995 -0.9554813\n",
       "[5,] -0.35609363 -1.7145561 -0.7105426"
      ]
     },
     "metadata": {},
     "output_type": "display_data"
    }
   ],
   "source": [
    "m"
   ]
  },
  {
   "cell_type": "code",
   "execution_count": 87,
   "metadata": {},
   "outputs": [
    {
     "data": {
      "text/html": [
       "-1.02477512849058"
      ],
      "text/latex": [
       "-1.02477512849058"
      ],
      "text/markdown": [
       "-1.02477512849058"
      ],
      "text/plain": [
       "[1] -1.024775"
      ]
     },
     "metadata": {},
     "output_type": "display_data"
    }
   ],
   "source": [
    "m[1,2]"
   ]
  },
  {
   "cell_type": "code",
   "execution_count": 88,
   "metadata": {},
   "outputs": [
    {
     "data": {
      "text/html": [
       "-0.949581096786806"
      ],
      "text/latex": [
       "-0.949581096786806"
      ],
      "text/markdown": [
       "-0.949581096786806"
      ],
      "text/plain": [
       "[1] -0.9495811"
      ]
     },
     "metadata": {},
     "output_type": "display_data"
    }
   ],
   "source": [
    "m[2,3]"
   ]
  },
  {
   "cell_type": "code",
   "execution_count": 89,
   "metadata": {},
   "outputs": [
    {
     "data": {
      "text/html": [
       "<ol class=list-inline>\n",
       "\t<li>0.796350213783644</li>\n",
       "\t<li>-0.949581096786806</li>\n",
       "</ol>\n"
      ],
      "text/latex": [
       "\\begin{enumerate*}\n",
       "\\item 0.796350213783644\n",
       "\\item -0.949581096786806\n",
       "\\end{enumerate*}\n"
      ],
      "text/markdown": [
       "1. 0.796350213783644\n",
       "2. -0.949581096786806\n",
       "\n",
       "\n"
      ],
      "text/plain": [
       "[1]  0.7963502 -0.9495811"
      ]
     },
     "metadata": {},
     "output_type": "display_data"
    }
   ],
   "source": [
    "m[1:2 ,3]"
   ]
  },
  {
   "cell_type": "code",
   "execution_count": 90,
   "metadata": {},
   "outputs": [
    {
     "data": {
      "text/html": [
       "<ol class=list-inline>\n",
       "\t<li>1.13973411613043</li>\n",
       "\t<li>-1.02477512849058</li>\n",
       "\t<li>0.796350213783644</li>\n",
       "</ol>\n"
      ],
      "text/latex": [
       "\\begin{enumerate*}\n",
       "\\item 1.13973411613043\n",
       "\\item -1.02477512849058\n",
       "\\item 0.796350213783644\n",
       "\\end{enumerate*}\n"
      ],
      "text/markdown": [
       "1. 1.13973411613043\n",
       "2. -1.02477512849058\n",
       "3. 0.796350213783644\n",
       "\n",
       "\n"
      ],
      "text/plain": [
       "[1]  1.1397341 -1.0247751  0.7963502"
      ]
     },
     "metadata": {},
     "output_type": "display_data"
    }
   ],
   "source": [
    "m[1,]"
   ]
  },
  {
   "cell_type": "code",
   "execution_count": 91,
   "metadata": {},
   "outputs": [
    {
     "data": {
      "text/html": [
       "<ol class=list-inline>\n",
       "\t<li>1.13973411613043</li>\n",
       "\t<li>-0.0679873476145856</li>\n",
       "\t<li>0.683367054216449</li>\n",
       "\t<li>0.700594149564555</li>\n",
       "\t<li>-0.356093633180984</li>\n",
       "</ol>\n"
      ],
      "text/latex": [
       "\\begin{enumerate*}\n",
       "\\item 1.13973411613043\n",
       "\\item -0.0679873476145856\n",
       "\\item 0.683367054216449\n",
       "\\item 0.700594149564555\n",
       "\\item -0.356093633180984\n",
       "\\end{enumerate*}\n"
      ],
      "text/markdown": [
       "1. 1.13973411613043\n",
       "2. -0.0679873476145856\n",
       "3. 0.683367054216449\n",
       "4. 0.700594149564555\n",
       "5. -0.356093633180984\n",
       "\n",
       "\n"
      ],
      "text/plain": [
       "[1]  1.13973412 -0.06798735  0.68336705  0.70059415 -0.35609363"
      ]
     },
     "metadata": {},
     "output_type": "display_data"
    }
   ],
   "source": [
    "m[,1]"
   ]
  },
  {
   "cell_type": "code",
   "execution_count": 92,
   "metadata": {},
   "outputs": [],
   "source": [
    "m[,3]<-0"
   ]
  },
  {
   "cell_type": "code",
   "execution_count": 93,
   "metadata": {},
   "outputs": [
    {
     "data": {
      "text/html": [
       "<table>\n",
       "<caption>A matrix: 5 × 3 of type dbl</caption>\n",
       "<tbody>\n",
       "\t<tr><td> 1.13973412</td><td>-1.0247751</td><td>0</td></tr>\n",
       "\t<tr><td>-0.06798735</td><td> 0.1161695</td><td>0</td></tr>\n",
       "\t<tr><td> 0.68336705</td><td> 0.5774687</td><td>0</td></tr>\n",
       "\t<tr><td> 0.70059415</td><td> 0.7484995</td><td>0</td></tr>\n",
       "\t<tr><td>-0.35609363</td><td>-1.7145561</td><td>0</td></tr>\n",
       "</tbody>\n",
       "</table>\n"
      ],
      "text/latex": [
       "A matrix: 5 × 3 of type dbl\n",
       "\\begin{tabular}{lll}\n",
       "\t  1.13973412 & -1.0247751 & 0\\\\\n",
       "\t -0.06798735 &  0.1161695 & 0\\\\\n",
       "\t  0.68336705 &  0.5774687 & 0\\\\\n",
       "\t  0.70059415 &  0.7484995 & 0\\\\\n",
       "\t -0.35609363 & -1.7145561 & 0\\\\\n",
       "\\end{tabular}\n"
      ],
      "text/markdown": [
       "\n",
       "A matrix: 5 × 3 of type dbl\n",
       "\n",
       "|  1.13973412 | -1.0247751 | 0 |\n",
       "| -0.06798735 |  0.1161695 | 0 |\n",
       "|  0.68336705 |  0.5774687 | 0 |\n",
       "|  0.70059415 |  0.7484995 | 0 |\n",
       "| -0.35609363 | -1.7145561 | 0 |\n",
       "\n"
      ],
      "text/plain": [
       "     [,1]        [,2]       [,3]\n",
       "[1,]  1.13973412 -1.0247751 0   \n",
       "[2,] -0.06798735  0.1161695 0   \n",
       "[3,]  0.68336705  0.5774687 0   \n",
       "[4,]  0.70059415  0.7484995 0   \n",
       "[5,] -0.35609363 -1.7145561 0   "
      ]
     },
     "metadata": {},
     "output_type": "display_data"
    }
   ],
   "source": [
    "m"
   ]
  },
  {
   "cell_type": "code",
   "execution_count": 94,
   "metadata": {},
   "outputs": [
    {
     "data": {
      "text/html": [
       "<table>\n",
       "<caption>A matrix: 5 × 3 of type dbl</caption>\n",
       "<tbody>\n",
       "\t<tr><td> 1.13973412</td><td>99.0000000</td><td>0</td></tr>\n",
       "\t<tr><td>-0.06798735</td><td>99.0000000</td><td>0</td></tr>\n",
       "\t<tr><td> 0.68336705</td><td> 0.5774687</td><td>0</td></tr>\n",
       "\t<tr><td> 0.70059415</td><td> 0.7484995</td><td>0</td></tr>\n",
       "\t<tr><td>-0.35609363</td><td>-1.7145561</td><td>0</td></tr>\n",
       "</tbody>\n",
       "</table>\n"
      ],
      "text/latex": [
       "A matrix: 5 × 3 of type dbl\n",
       "\\begin{tabular}{lll}\n",
       "\t  1.13973412 & 99.0000000 & 0\\\\\n",
       "\t -0.06798735 & 99.0000000 & 0\\\\\n",
       "\t  0.68336705 &  0.5774687 & 0\\\\\n",
       "\t  0.70059415 &  0.7484995 & 0\\\\\n",
       "\t -0.35609363 & -1.7145561 & 0\\\\\n",
       "\\end{tabular}\n"
      ],
      "text/markdown": [
       "\n",
       "A matrix: 5 × 3 of type dbl\n",
       "\n",
       "|  1.13973412 | 99.0000000 | 0 |\n",
       "| -0.06798735 | 99.0000000 | 0 |\n",
       "|  0.68336705 |  0.5774687 | 0 |\n",
       "|  0.70059415 |  0.7484995 | 0 |\n",
       "| -0.35609363 | -1.7145561 | 0 |\n",
       "\n"
      ],
      "text/plain": [
       "     [,1]        [,2]       [,3]\n",
       "[1,]  1.13973412 99.0000000 0   \n",
       "[2,] -0.06798735 99.0000000 0   \n",
       "[3,]  0.68336705  0.5774687 0   \n",
       "[4,]  0.70059415  0.7484995 0   \n",
       "[5,] -0.35609363 -1.7145561 0   "
      ]
     },
     "metadata": {},
     "output_type": "display_data"
    }
   ],
   "source": [
    "m[1:2,2]<-99\n",
    "m"
   ]
  },
  {
   "cell_type": "code",
   "execution_count": 95,
   "metadata": {},
   "outputs": [
    {
     "name": "stdout",
     "output_type": "stream",
     "text": [
      "            [,1]       [,2] [,3]\n",
      "[1,]  1.13973412 99.0000000    0\n",
      "[2,] -0.06798735 99.0000000    0\n",
      "[3,]  0.68336705  0.5774687    0\n",
      "[4,]  0.70059415  0.7484995    0\n",
      "[5,] -0.35609363 -1.7145561    0\n"
     ]
    }
   ],
   "source": [
    "print(m)"
   ]
  },
  {
   "cell_type": "code",
   "execution_count": 96,
   "metadata": {},
   "outputs": [],
   "source": [
    "num_rows<-nrow(m)"
   ]
  },
  {
   "cell_type": "code",
   "execution_count": 97,
   "metadata": {},
   "outputs": [
    {
     "ename": "ERROR",
     "evalue": "Error in print(nrows): object 'nrows' not found\n",
     "output_type": "error",
     "traceback": [
      "Error in print(nrows): object 'nrows' not found\nTraceback:\n",
      "1. print(nrows)"
     ]
    }
   ],
   "source": [
    "print(nrows)"
   ]
  },
  {
   "cell_type": "code",
   "execution_count": 98,
   "metadata": {},
   "outputs": [
    {
     "data": {
      "text/html": [
       "5"
      ],
      "text/latex": [
       "5"
      ],
      "text/markdown": [
       "5"
      ],
      "text/plain": [
       "[1] 5"
      ]
     },
     "metadata": {},
     "output_type": "display_data"
    }
   ],
   "source": [
    "num_rows"
   ]
  },
  {
   "cell_type": "code",
   "execution_count": 99,
   "metadata": {},
   "outputs": [
    {
     "ename": "ERROR",
     "evalue": "Error in colmeans(m): could not find function \"colmeans\"\n",
     "output_type": "error",
     "traceback": [
      "Error in colmeans(m): could not find function \"colmeans\"\nTraceback:\n"
     ]
    }
   ],
   "source": [
    "colmeans(m)"
   ]
  },
  {
   "cell_type": "code",
   "execution_count": 100,
   "metadata": {},
   "outputs": [
    {
     "data": {
      "text/html": [
       "<ol class=list-inline>\n",
       "\t<li>0.419922867823173</li>\n",
       "\t<li>39.5222824304385</li>\n",
       "\t<li>0</li>\n",
       "</ol>\n"
      ],
      "text/latex": [
       "\\begin{enumerate*}\n",
       "\\item 0.419922867823173\n",
       "\\item 39.5222824304385\n",
       "\\item 0\n",
       "\\end{enumerate*}\n"
      ],
      "text/markdown": [
       "1. 0.419922867823173\n",
       "2. 39.5222824304385\n",
       "3. 0\n",
       "\n",
       "\n"
      ],
      "text/plain": [
       "[1]  0.4199229 39.5222824  0.0000000"
      ]
     },
     "metadata": {},
     "output_type": "display_data"
    }
   ],
   "source": [
    "colMeans(m)"
   ]
  },
  {
   "cell_type": "code",
   "execution_count": 101,
   "metadata": {},
   "outputs": [
    {
     "data": {
      "text/html": [
       "<ol class=list-inline>\n",
       "\t<li>2.09961433911587</li>\n",
       "\t<li>197.611412152192</li>\n",
       "\t<li>0</li>\n",
       "</ol>\n"
      ],
      "text/latex": [
       "\\begin{enumerate*}\n",
       "\\item 2.09961433911587\n",
       "\\item 197.611412152192\n",
       "\\item 0\n",
       "\\end{enumerate*}\n"
      ],
      "text/markdown": [
       "1. 2.09961433911587\n",
       "2. 197.611412152192\n",
       "3. 0\n",
       "\n",
       "\n"
      ],
      "text/plain": [
       "[1]   2.099614 197.611412   0.000000"
      ]
     },
     "metadata": {},
     "output_type": "display_data"
    }
   ],
   "source": [
    "colSums(m)"
   ]
  },
  {
   "cell_type": "code",
   "execution_count": 102,
   "metadata": {},
   "outputs": [
    {
     "data": {
      "text/html": [
       "<ol class=list-inline>\n",
       "\t<li>100.13973411613</li>\n",
       "\t<li>98.9320126523854</li>\n",
       "\t<li>1.26083573709244</li>\n",
       "\t<li>1.4490936979105</li>\n",
       "\t<li>-2.07064971221043</li>\n",
       "</ol>\n"
      ],
      "text/latex": [
       "\\begin{enumerate*}\n",
       "\\item 100.13973411613\n",
       "\\item 98.9320126523854\n",
       "\\item 1.26083573709244\n",
       "\\item 1.4490936979105\n",
       "\\item -2.07064971221043\n",
       "\\end{enumerate*}\n"
      ],
      "text/markdown": [
       "1. 100.13973411613\n",
       "2. 98.9320126523854\n",
       "3. 1.26083573709244\n",
       "4. 1.4490936979105\n",
       "5. -2.07064971221043\n",
       "\n",
       "\n"
      ],
      "text/plain": [
       "[1] 100.139734  98.932013   1.260836   1.449094  -2.070650"
      ]
     },
     "metadata": {},
     "output_type": "display_data"
    }
   ],
   "source": [
    "rowSums(m)"
   ]
  },
  {
   "cell_type": "markdown",
   "metadata": {},
   "source": [
    "# The DataFrame"
   ]
  },
  {
   "cell_type": "code",
   "execution_count": 103,
   "metadata": {},
   "outputs": [],
   "source": [
    "id <- seq(4)"
   ]
  },
  {
   "cell_type": "code",
   "execution_count": 104,
   "metadata": {},
   "outputs": [
    {
     "data": {
      "text/html": [
       "<ol class=list-inline>\n",
       "\t<li>1</li>\n",
       "\t<li>2</li>\n",
       "\t<li>3</li>\n",
       "\t<li>4</li>\n",
       "</ol>\n"
      ],
      "text/latex": [
       "\\begin{enumerate*}\n",
       "\\item 1\n",
       "\\item 2\n",
       "\\item 3\n",
       "\\item 4\n",
       "\\end{enumerate*}\n"
      ],
      "text/markdown": [
       "1. 1\n",
       "2. 2\n",
       "3. 3\n",
       "4. 4\n",
       "\n",
       "\n"
      ],
      "text/plain": [
       "[1] 1 2 3 4"
      ]
     },
     "metadata": {},
     "output_type": "display_data"
    }
   ],
   "source": [
    "id"
   ]
  },
  {
   "cell_type": "code",
   "execution_count": 105,
   "metadata": {},
   "outputs": [],
   "source": [
    "score<- rnorm(4)"
   ]
  },
  {
   "cell_type": "code",
   "execution_count": 106,
   "metadata": {},
   "outputs": [],
   "source": [
    "names <- c(\"john\",\"paul\",\"george\",\"ringo\")"
   ]
  },
  {
   "cell_type": "code",
   "execution_count": 107,
   "metadata": {},
   "outputs": [],
   "source": [
    "vocals<- c(TRUE,TRUE,FALSE,FALSE)\n",
    "dset<-data.frame(id,names,score,vocals)"
   ]
  },
  {
   "cell_type": "code",
   "execution_count": 108,
   "metadata": {},
   "outputs": [
    {
     "data": {
      "text/html": [
       "<table>\n",
       "<caption>A data.frame: 4 × 4</caption>\n",
       "<thead>\n",
       "\t<tr><th scope=col>id</th><th scope=col>names</th><th scope=col>score</th><th scope=col>vocals</th></tr>\n",
       "\t<tr><th scope=col>&lt;int&gt;</th><th scope=col>&lt;fct&gt;</th><th scope=col>&lt;dbl&gt;</th><th scope=col>&lt;lgl&gt;</th></tr>\n",
       "</thead>\n",
       "<tbody>\n",
       "\t<tr><td>1</td><td>john  </td><td>-1.41598257</td><td> TRUE</td></tr>\n",
       "\t<tr><td>2</td><td>paul  </td><td> 0.39706834</td><td> TRUE</td></tr>\n",
       "\t<tr><td>3</td><td>george</td><td>-0.06854374</td><td>FALSE</td></tr>\n",
       "\t<tr><td>4</td><td>ringo </td><td> 1.35067970</td><td>FALSE</td></tr>\n",
       "</tbody>\n",
       "</table>\n"
      ],
      "text/latex": [
       "A data.frame: 4 × 4\n",
       "\\begin{tabular}{r|llll}\n",
       " id & names & score & vocals\\\\\n",
       " <int> & <fct> & <dbl> & <lgl>\\\\\n",
       "\\hline\n",
       "\t 1 & john   & -1.41598257 &  TRUE\\\\\n",
       "\t 2 & paul   &  0.39706834 &  TRUE\\\\\n",
       "\t 3 & george & -0.06854374 & FALSE\\\\\n",
       "\t 4 & ringo  &  1.35067970 & FALSE\\\\\n",
       "\\end{tabular}\n"
      ],
      "text/markdown": [
       "\n",
       "A data.frame: 4 × 4\n",
       "\n",
       "| id &lt;int&gt; | names &lt;fct&gt; | score &lt;dbl&gt; | vocals &lt;lgl&gt; |\n",
       "|---|---|---|---|\n",
       "| 1 | john   | -1.41598257 |  TRUE |\n",
       "| 2 | paul   |  0.39706834 |  TRUE |\n",
       "| 3 | george | -0.06854374 | FALSE |\n",
       "| 4 | ringo  |  1.35067970 | FALSE |\n",
       "\n"
      ],
      "text/plain": [
       "  id names  score       vocals\n",
       "1 1  john   -1.41598257  TRUE \n",
       "2 2  paul    0.39706834  TRUE \n",
       "3 3  george -0.06854374 FALSE \n",
       "4 4  ringo   1.35067970 FALSE "
      ]
     },
     "metadata": {},
     "output_type": "display_data"
    }
   ],
   "source": [
    "dset"
   ]
  },
  {
   "cell_type": "code",
   "execution_count": 109,
   "metadata": {},
   "outputs": [
    {
     "data": {
      "text/html": [
       "john\n",
       "<details>\n",
       "\t<summary style=display:list-item;cursor:pointer>\n",
       "\t\t<strong>Levels</strong>:\n",
       "\t</summary>\n",
       "\t<ol class=list-inline>\n",
       "\t\t<li>'george'</li>\n",
       "\t\t<li>'john'</li>\n",
       "\t\t<li>'paul'</li>\n",
       "\t\t<li>'ringo'</li>\n",
       "\t</ol>\n",
       "</details>"
      ],
      "text/latex": [
       "john\n",
       "\\emph{Levels}: \\begin{enumerate*}\n",
       "\\item 'george'\n",
       "\\item 'john'\n",
       "\\item 'paul'\n",
       "\\item 'ringo'\n",
       "\\end{enumerate*}\n"
      ],
      "text/markdown": [
       "john\n",
       "**Levels**: 1. 'george'\n",
       "2. 'john'\n",
       "3. 'paul'\n",
       "4. 'ringo'\n",
       "\n",
       "\n"
      ],
      "text/plain": [
       "[1] john\n",
       "Levels: george john paul ringo"
      ]
     },
     "metadata": {},
     "output_type": "display_data"
    }
   ],
   "source": [
    "dset[1,2]"
   ]
  },
  {
   "cell_type": "code",
   "execution_count": 110,
   "metadata": {},
   "outputs": [
    {
     "data": {
      "text/html": [
       "<ol class=list-inline>\n",
       "\t<li>john</li>\n",
       "\t<li>paul</li>\n",
       "\t<li>george</li>\n",
       "\t<li>ringo</li>\n",
       "</ol>\n",
       "\n",
       "<details>\n",
       "\t<summary style=display:list-item;cursor:pointer>\n",
       "\t\t<strong>Levels</strong>:\n",
       "\t</summary>\n",
       "\t<ol class=list-inline>\n",
       "\t\t<li>'george'</li>\n",
       "\t\t<li>'john'</li>\n",
       "\t\t<li>'paul'</li>\n",
       "\t\t<li>'ringo'</li>\n",
       "\t</ol>\n",
       "</details>"
      ],
      "text/latex": [
       "\\begin{enumerate*}\n",
       "\\item john\n",
       "\\item paul\n",
       "\\item george\n",
       "\\item ringo\n",
       "\\end{enumerate*}\n",
       "\n",
       "\\emph{Levels}: \\begin{enumerate*}\n",
       "\\item 'george'\n",
       "\\item 'john'\n",
       "\\item 'paul'\n",
       "\\item 'ringo'\n",
       "\\end{enumerate*}\n"
      ],
      "text/markdown": [
       "1. john\n",
       "2. paul\n",
       "3. george\n",
       "4. ringo\n",
       "\n",
       "\n",
       "\n",
       "**Levels**: 1. 'george'\n",
       "2. 'john'\n",
       "3. 'paul'\n",
       "4. 'ringo'\n",
       "\n",
       "\n"
      ],
      "text/plain": [
       "[1] john   paul   george ringo \n",
       "Levels: george john paul ringo"
      ]
     },
     "metadata": {},
     "output_type": "display_data"
    }
   ],
   "source": [
    "dset$names"
   ]
  },
  {
   "cell_type": "code",
   "execution_count": null,
   "metadata": {},
   "outputs": [],
   "source": []
  }
 ],
 "metadata": {
  "kernelspec": {
   "display_name": "R",
   "language": "R",
   "name": "ir"
  },
  "language_info": {
   "codemirror_mode": "r",
   "file_extension": ".r",
   "mimetype": "text/x-r-source",
   "name": "R",
   "pygments_lexer": "r",
   "version": "3.6.1"
  }
 },
 "nbformat": 4,
 "nbformat_minor": 4
}
